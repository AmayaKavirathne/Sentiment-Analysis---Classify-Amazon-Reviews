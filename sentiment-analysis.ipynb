{
 "cells": [
  {
   "cell_type": "code",
   "execution_count": 1,
   "id": "0a734a08",
   "metadata": {
    "_cell_guid": "b1076dfc-b9ad-4769-8c92-a6c4dae69d19",
    "_uuid": "8f2839f25d086af736a60e9eeb907d3b93b6e0e5",
    "execution": {
     "iopub.execute_input": "2024-01-11T22:19:17.237323Z",
     "iopub.status.busy": "2024-01-11T22:19:17.236921Z",
     "iopub.status.idle": "2024-01-11T22:19:17.690766Z",
     "shell.execute_reply": "2024-01-11T22:19:17.689459Z"
    },
    "papermill": {
     "duration": 0.46996,
     "end_time": "2024-01-11T22:19:17.693574",
     "exception": false,
     "start_time": "2024-01-11T22:19:17.223614",
     "status": "completed"
    },
    "tags": []
   },
   "outputs": [
    {
     "name": "stdout",
     "output_type": "stream",
     "text": [
      "/kaggle/input/amazon-fine-food-reviews/hashes.txt\n",
      "/kaggle/input/amazon-fine-food-reviews/Reviews.csv\n",
      "/kaggle/input/amazon-fine-food-reviews/database.sqlite\n"
     ]
    }
   ],
   "source": [
    "# This Python 3 environment comes with many helpful analytics libraries installed\n",
    "# It is defined by the kaggle/python Docker image: https://github.com/kaggle/docker-python\n",
    "# For example, here's several helpful packages to load\n",
    "\n",
    "import numpy as np # linear algebra\n",
    "import pandas as pd # data processing, CSV file I/O (e.g. pd.read_csv)\n",
    "\n",
    "# Input data files are available in the read-only \"../input/\" directory\n",
    "# For example, running this (by clicking run or pressing Shift+Enter) will list all files under the input directory\n",
    "\n",
    "import os\n",
    "for dirname, _, filenames in os.walk('/kaggle/input'):\n",
    "    for filename in filenames:\n",
    "        print(os.path.join(dirname, filename))\n",
    "\n",
    "# You can write up to 20GB to the current directory (/kaggle/working/) that gets preserved as output when you create a version using \"Save & Run All\" \n",
    "# You can also write temporary files to /kaggle/temp/, but they won't be saved outside of the current session"
   ]
  },
  {
   "cell_type": "markdown",
   "id": "f062eddb",
   "metadata": {
    "papermill": {
     "duration": 0.008432,
     "end_time": "2024-01-11T22:19:17.711031",
     "exception": false,
     "start_time": "2024-01-11T22:19:17.702599",
     "status": "completed"
    },
    "tags": []
   },
   "source": [
    "# Read in Data and NLTK basics"
   ]
  },
  {
   "cell_type": "code",
   "execution_count": 2,
   "id": "24cfcc8f",
   "metadata": {
    "execution": {
     "iopub.execute_input": "2024-01-11T22:19:17.730786Z",
     "iopub.status.busy": "2024-01-11T22:19:17.729608Z",
     "iopub.status.idle": "2024-01-11T22:19:20.250874Z",
     "shell.execute_reply": "2024-01-11T22:19:20.249879Z"
    },
    "papermill": {
     "duration": 2.533854,
     "end_time": "2024-01-11T22:19:20.253530",
     "exception": false,
     "start_time": "2024-01-11T22:19:17.719676",
     "status": "completed"
    },
    "tags": []
   },
   "outputs": [],
   "source": [
    "import pandas as pd\n",
    "import numpy as np\n",
    "import matplotlib.pyplot as plt\n",
    "import seaborn as sns\n",
    "\n",
    "plt.style.use('ggplot')\n",
    "\n",
    "import nltk #importing natural language toolkit"
   ]
  },
  {
   "cell_type": "code",
   "execution_count": 3,
   "id": "a4d3aaa6",
   "metadata": {
    "execution": {
     "iopub.execute_input": "2024-01-11T22:19:20.273820Z",
     "iopub.status.busy": "2024-01-11T22:19:20.272761Z",
     "iopub.status.idle": "2024-01-11T22:19:29.538896Z",
     "shell.execute_reply": "2024-01-11T22:19:29.537525Z"
    },
    "papermill": {
     "duration": 9.279352,
     "end_time": "2024-01-11T22:19:29.541923",
     "exception": false,
     "start_time": "2024-01-11T22:19:20.262571",
     "status": "completed"
    },
    "tags": []
   },
   "outputs": [],
   "source": [
    "#Read dataset\n",
    "df = pd.read_csv('/kaggle/input/amazon-fine-food-reviews/Reviews.csv')"
   ]
  },
  {
   "cell_type": "code",
   "execution_count": 4,
   "id": "179a4c1c",
   "metadata": {
    "execution": {
     "iopub.execute_input": "2024-01-11T22:19:29.561578Z",
     "iopub.status.busy": "2024-01-11T22:19:29.561118Z",
     "iopub.status.idle": "2024-01-11T22:19:29.589198Z",
     "shell.execute_reply": "2024-01-11T22:19:29.587923Z"
    },
    "papermill": {
     "duration": 0.041047,
     "end_time": "2024-01-11T22:19:29.591927",
     "exception": false,
     "start_time": "2024-01-11T22:19:29.550880",
     "status": "completed"
    },
    "tags": []
   },
   "outputs": [
    {
     "data": {
      "text/html": [
       "<div>\n",
       "<style scoped>\n",
       "    .dataframe tbody tr th:only-of-type {\n",
       "        vertical-align: middle;\n",
       "    }\n",
       "\n",
       "    .dataframe tbody tr th {\n",
       "        vertical-align: top;\n",
       "    }\n",
       "\n",
       "    .dataframe thead th {\n",
       "        text-align: right;\n",
       "    }\n",
       "</style>\n",
       "<table border=\"1\" class=\"dataframe\">\n",
       "  <thead>\n",
       "    <tr style=\"text-align: right;\">\n",
       "      <th></th>\n",
       "      <th>Id</th>\n",
       "      <th>ProductId</th>\n",
       "      <th>UserId</th>\n",
       "      <th>ProfileName</th>\n",
       "      <th>HelpfulnessNumerator</th>\n",
       "      <th>HelpfulnessDenominator</th>\n",
       "      <th>Score</th>\n",
       "      <th>Time</th>\n",
       "      <th>Summary</th>\n",
       "      <th>Text</th>\n",
       "    </tr>\n",
       "  </thead>\n",
       "  <tbody>\n",
       "    <tr>\n",
       "      <th>0</th>\n",
       "      <td>1</td>\n",
       "      <td>B001E4KFG0</td>\n",
       "      <td>A3SGXH7AUHU8GW</td>\n",
       "      <td>delmartian</td>\n",
       "      <td>1</td>\n",
       "      <td>1</td>\n",
       "      <td>5</td>\n",
       "      <td>1303862400</td>\n",
       "      <td>Good Quality Dog Food</td>\n",
       "      <td>I have bought several of the Vitality canned d...</td>\n",
       "    </tr>\n",
       "    <tr>\n",
       "      <th>1</th>\n",
       "      <td>2</td>\n",
       "      <td>B00813GRG4</td>\n",
       "      <td>A1D87F6ZCVE5NK</td>\n",
       "      <td>dll pa</td>\n",
       "      <td>0</td>\n",
       "      <td>0</td>\n",
       "      <td>1</td>\n",
       "      <td>1346976000</td>\n",
       "      <td>Not as Advertised</td>\n",
       "      <td>Product arrived labeled as Jumbo Salted Peanut...</td>\n",
       "    </tr>\n",
       "    <tr>\n",
       "      <th>2</th>\n",
       "      <td>3</td>\n",
       "      <td>B000LQOCH0</td>\n",
       "      <td>ABXLMWJIXXAIN</td>\n",
       "      <td>Natalia Corres \"Natalia Corres\"</td>\n",
       "      <td>1</td>\n",
       "      <td>1</td>\n",
       "      <td>4</td>\n",
       "      <td>1219017600</td>\n",
       "      <td>\"Delight\" says it all</td>\n",
       "      <td>This is a confection that has been around a fe...</td>\n",
       "    </tr>\n",
       "    <tr>\n",
       "      <th>3</th>\n",
       "      <td>4</td>\n",
       "      <td>B000UA0QIQ</td>\n",
       "      <td>A395BORC6FGVXV</td>\n",
       "      <td>Karl</td>\n",
       "      <td>3</td>\n",
       "      <td>3</td>\n",
       "      <td>2</td>\n",
       "      <td>1307923200</td>\n",
       "      <td>Cough Medicine</td>\n",
       "      <td>If you are looking for the secret ingredient i...</td>\n",
       "    </tr>\n",
       "    <tr>\n",
       "      <th>4</th>\n",
       "      <td>5</td>\n",
       "      <td>B006K2ZZ7K</td>\n",
       "      <td>A1UQRSCLF8GW1T</td>\n",
       "      <td>Michael D. Bigham \"M. Wassir\"</td>\n",
       "      <td>0</td>\n",
       "      <td>0</td>\n",
       "      <td>5</td>\n",
       "      <td>1350777600</td>\n",
       "      <td>Great taffy</td>\n",
       "      <td>Great taffy at a great price.  There was a wid...</td>\n",
       "    </tr>\n",
       "  </tbody>\n",
       "</table>\n",
       "</div>"
      ],
      "text/plain": [
       "   Id   ProductId          UserId                      ProfileName  \\\n",
       "0   1  B001E4KFG0  A3SGXH7AUHU8GW                       delmartian   \n",
       "1   2  B00813GRG4  A1D87F6ZCVE5NK                           dll pa   \n",
       "2   3  B000LQOCH0   ABXLMWJIXXAIN  Natalia Corres \"Natalia Corres\"   \n",
       "3   4  B000UA0QIQ  A395BORC6FGVXV                             Karl   \n",
       "4   5  B006K2ZZ7K  A1UQRSCLF8GW1T    Michael D. Bigham \"M. Wassir\"   \n",
       "\n",
       "   HelpfulnessNumerator  HelpfulnessDenominator  Score        Time  \\\n",
       "0                     1                       1      5  1303862400   \n",
       "1                     0                       0      1  1346976000   \n",
       "2                     1                       1      4  1219017600   \n",
       "3                     3                       3      2  1307923200   \n",
       "4                     0                       0      5  1350777600   \n",
       "\n",
       "                 Summary                                               Text  \n",
       "0  Good Quality Dog Food  I have bought several of the Vitality canned d...  \n",
       "1      Not as Advertised  Product arrived labeled as Jumbo Salted Peanut...  \n",
       "2  \"Delight\" says it all  This is a confection that has been around a fe...  \n",
       "3         Cough Medicine  If you are looking for the secret ingredient i...  \n",
       "4            Great taffy  Great taffy at a great price.  There was a wid...  "
      ]
     },
     "execution_count": 4,
     "metadata": {},
     "output_type": "execute_result"
    }
   ],
   "source": [
    "df.head()"
   ]
  },
  {
   "cell_type": "code",
   "execution_count": 5,
   "id": "37f3db86",
   "metadata": {
    "execution": {
     "iopub.execute_input": "2024-01-11T22:19:29.613079Z",
     "iopub.status.busy": "2024-01-11T22:19:29.612674Z",
     "iopub.status.idle": "2024-01-11T22:19:29.619861Z",
     "shell.execute_reply": "2024-01-11T22:19:29.618686Z"
    },
    "papermill": {
     "duration": 0.020584,
     "end_time": "2024-01-11T22:19:29.622208",
     "exception": false,
     "start_time": "2024-01-11T22:19:29.601624",
     "status": "completed"
    },
    "tags": []
   },
   "outputs": [
    {
     "data": {
      "text/plain": [
       "'I have bought several of the Vitality canned dog food products and have found them all to be of good quality. The product looks more like a stew than a processed meat and it smells better. My Labrador is finicky and she appreciates this product better than  most.'"
      ]
     },
     "execution_count": 5,
     "metadata": {},
     "output_type": "execute_result"
    }
   ],
   "source": [
    "df['Text'].values[0]"
   ]
  },
  {
   "cell_type": "code",
   "execution_count": 6,
   "id": "4ebaca75",
   "metadata": {
    "execution": {
     "iopub.execute_input": "2024-01-11T22:19:29.643174Z",
     "iopub.status.busy": "2024-01-11T22:19:29.642757Z",
     "iopub.status.idle": "2024-01-11T22:19:29.648312Z",
     "shell.execute_reply": "2024-01-11T22:19:29.647147Z"
    },
    "papermill": {
     "duration": 0.019515,
     "end_time": "2024-01-11T22:19:29.650961",
     "exception": false,
     "start_time": "2024-01-11T22:19:29.631446",
     "status": "completed"
    },
    "tags": []
   },
   "outputs": [
    {
     "name": "stdout",
     "output_type": "stream",
     "text": [
      "(568454, 10)\n"
     ]
    }
   ],
   "source": [
    "print(df.shape)"
   ]
  },
  {
   "cell_type": "code",
   "execution_count": 7,
   "id": "ec00cac4",
   "metadata": {
    "execution": {
     "iopub.execute_input": "2024-01-11T22:19:29.671791Z",
     "iopub.status.busy": "2024-01-11T22:19:29.671354Z",
     "iopub.status.idle": "2024-01-11T22:19:29.677330Z",
     "shell.execute_reply": "2024-01-11T22:19:29.676355Z"
    },
    "papermill": {
     "duration": 0.019808,
     "end_time": "2024-01-11T22:19:29.680169",
     "exception": false,
     "start_time": "2024-01-11T22:19:29.660361",
     "status": "completed"
    },
    "tags": []
   },
   "outputs": [
    {
     "name": "stdout",
     "output_type": "stream",
     "text": [
      "(500, 10)\n"
     ]
    }
   ],
   "source": [
    "#downsizing the dataset to 500 rows\n",
    "df = df.head(500)\n",
    "print(df.shape)"
   ]
  },
  {
   "cell_type": "code",
   "execution_count": 8,
   "id": "146a6951",
   "metadata": {
    "execution": {
     "iopub.execute_input": "2024-01-11T22:19:29.700893Z",
     "iopub.status.busy": "2024-01-11T22:19:29.700445Z",
     "iopub.status.idle": "2024-01-11T22:19:30.065336Z",
     "shell.execute_reply": "2024-01-11T22:19:30.064059Z"
    },
    "papermill": {
     "duration": 0.378476,
     "end_time": "2024-01-11T22:19:30.068061",
     "exception": false,
     "start_time": "2024-01-11T22:19:29.689585",
     "status": "completed"
    },
    "tags": []
   },
   "outputs": [
    {
     "data": {
      "image/png": "[encoded data removed]",
      "text/plain": [
       "<Figure size 1000x500 with 1 Axes>"
      ]
     },
     "metadata": {},
     "output_type": "display_data"
    }
   ],
   "source": [
    "ax = df['Score'].value_counts().sort_index().plot(kind='bar', title='Count of Reviews by stars.', figsize=(10, 5))\n",
    "ax.set_xlabel('Review Stars')\n",
    "plt.show()"
   ]
  },
  {
   "cell_type": "markdown",
   "id": "9c0c4dcf",
   "metadata": {
    "papermill": {
     "duration": 0.009429,
     "end_time": "2024-01-11T22:19:30.087411",
     "exception": false,
     "start_time": "2024-01-11T22:19:30.077982",
     "status": "completed"
    },
    "tags": []
   },
   "source": [
    "# NLTK"
   ]
  },
  {
   "cell_type": "code",
   "execution_count": 9,
   "id": "17953023",
   "metadata": {
    "execution": {
     "iopub.execute_input": "2024-01-11T22:19:30.109021Z",
     "iopub.status.busy": "2024-01-11T22:19:30.108180Z",
     "iopub.status.idle": "2024-01-11T22:19:30.114281Z",
     "shell.execute_reply": "2024-01-11T22:19:30.113156Z"
    },
    "papermill": {
     "duration": 0.020323,
     "end_time": "2024-01-11T22:19:30.117402",
     "exception": false,
     "start_time": "2024-01-11T22:19:30.097079",
     "status": "completed"
    },
    "tags": []
   },
   "outputs": [
    {
     "name": "stdout",
     "output_type": "stream",
     "text": [
      "This oatmeal is not good. Its mushy, soft, I don't like it. Quaker Oats is the way to go.\n"
     ]
    }
   ],
   "source": [
    "#getting 50th text as an example\n",
    "example = df['Text'][50]\n",
    "print(example)"
   ]
  },
  {
   "cell_type": "code",
   "execution_count": 10,
   "id": "bb0c3d5e",
   "metadata": {
    "execution": {
     "iopub.execute_input": "2024-01-11T22:19:30.138891Z",
     "iopub.status.busy": "2024-01-11T22:19:30.138490Z",
     "iopub.status.idle": "2024-01-11T22:19:30.164152Z",
     "shell.execute_reply": "2024-01-11T22:19:30.163050Z"
    },
    "papermill": {
     "duration": 0.040059,
     "end_time": "2024-01-11T22:19:30.167331",
     "exception": false,
     "start_time": "2024-01-11T22:19:30.127272",
     "status": "completed"
    },
    "tags": []
   },
   "outputs": [
    {
     "data": {
      "text/plain": [
       "['This', 'oatmeal', 'is', 'not', 'good', '.', 'Its', 'mushy', ',', 'soft']"
      ]
     },
     "execution_count": 10,
     "metadata": {},
     "output_type": "execute_result"
    }
   ],
   "source": [
    "tokens = nltk.word_tokenize(example)\n",
    "tokens[:10]"
   ]
  },
  {
   "cell_type": "code",
   "execution_count": 11,
   "id": "b4e4015b",
   "metadata": {
    "execution": {
     "iopub.execute_input": "2024-01-11T22:19:30.190026Z",
     "iopub.status.busy": "2024-01-11T22:19:30.189623Z",
     "iopub.status.idle": "2024-01-11T22:19:30.346575Z",
     "shell.execute_reply": "2024-01-11T22:19:30.345418Z"
    },
    "papermill": {
     "duration": 0.171897,
     "end_time": "2024-01-11T22:19:30.349313",
     "exception": false,
     "start_time": "2024-01-11T22:19:30.177416",
     "status": "completed"
    },
    "tags": []
   },
   "outputs": [
    {
     "data": {
      "text/plain": [
       "[('This', 'DT'),\n",
       " ('oatmeal', 'NN'),\n",
       " ('is', 'VBZ'),\n",
       " ('not', 'RB'),\n",
       " ('good', 'JJ'),\n",
       " ('.', '.'),\n",
       " ('Its', 'PRP$'),\n",
       " ('mushy', 'NN'),\n",
       " (',', ','),\n",
       " ('soft', 'JJ')]"
      ]
     },
     "execution_count": 11,
     "metadata": {},
     "output_type": "execute_result"
    }
   ],
   "source": [
    "#part of speech tag\n",
    "tagged = nltk.pos_tag(tokens)\n",
    "tagged[:10]"
   ]
  },
  {
   "cell_type": "code",
   "execution_count": 12,
   "id": "1e1cb2b2",
   "metadata": {
    "execution": {
     "iopub.execute_input": "2024-01-11T22:19:30.371839Z",
     "iopub.status.busy": "2024-01-11T22:19:30.371357Z",
     "iopub.status.idle": "2024-01-11T22:19:30.524846Z",
     "shell.execute_reply": "2024-01-11T22:19:30.523232Z"
    },
    "papermill": {
     "duration": 0.167656,
     "end_time": "2024-01-11T22:19:30.527439",
     "exception": false,
     "start_time": "2024-01-11T22:19:30.359783",
     "status": "completed"
    },
    "tags": []
   },
   "outputs": [
    {
     "name": "stdout",
     "output_type": "stream",
     "text": [
      "(S\n",
      "  This/DT\n",
      "  oatmeal/NN\n",
      "  is/VBZ\n",
      "  not/RB\n",
      "  good/JJ\n",
      "  ./.\n",
      "  Its/PRP$\n",
      "  mushy/NN\n",
      "  ,/,\n",
      "  soft/JJ\n",
      "  ,/,\n",
      "  I/PRP\n",
      "  do/VBP\n",
      "  n't/RB\n",
      "  like/VB\n",
      "  it/PRP\n",
      "  ./.\n",
      "  (ORGANIZATION Quaker/NNP Oats/NNPS)\n",
      "  is/VBZ\n",
      "  the/DT\n",
      "  way/NN\n",
      "  to/TO\n",
      "  go/VB\n",
      "  ./.)\n"
     ]
    }
   ],
   "source": [
    "#putting tagged pos to entities\n",
    "entities = nltk.chunk.ne_chunk(tagged)\n",
    "entities.pprint()"
   ]
  },
  {
   "cell_type": "markdown",
   "id": "b49f66fc",
   "metadata": {
    "papermill": {
     "duration": 0.010267,
     "end_time": "2024-01-11T22:19:30.548248",
     "exception": false,
     "start_time": "2024-01-11T22:19:30.537981",
     "status": "completed"
    },
    "tags": []
   },
   "source": [
    "# VADER (Valence Aware Dictionary and sEntiment Reasoner) Sentiment Analysis\n",
    "will use NLTK's SentimentIntensityAnalyzer to get the neg/neu/pos scores of the text\n",
    "\n",
    "This uses a \"bag of word\" approach\n",
    "1. stop words are removed\n",
    "2. each word is scored and combined to a total score\n",
    "\n",
    "This approach does not account the relationships between words"
   ]
  },
  {
   "cell_type": "code",
   "execution_count": 13,
   "id": "729452c7",
   "metadata": {
    "execution": {
     "iopub.execute_input": "2024-01-11T22:19:30.570952Z",
     "iopub.status.busy": "2024-01-11T22:19:30.570485Z",
     "iopub.status.idle": "2024-01-11T22:19:30.614636Z",
     "shell.execute_reply": "2024-01-11T22:19:30.613254Z"
    },
    "papermill": {
     "duration": 0.058528,
     "end_time": "2024-01-11T22:19:30.617220",
     "exception": false,
     "start_time": "2024-01-11T22:19:30.558692",
     "status": "completed"
    },
    "tags": []
   },
   "outputs": [
    {
     "name": "stderr",
     "output_type": "stream",
     "text": [
      "/opt/conda/lib/python3.10/site-packages/nltk/twitter/__init__.py:20: UserWarning: The twython library has not been installed. Some functionality from the twitter package will not be available.\n",
      "  warnings.warn(\"The twython library has not been installed. \"\n"
     ]
    }
   ],
   "source": [
    "from nltk.sentiment import SentimentIntensityAnalyzer\n",
    "from tqdm.notebook import tqdm\n",
    "\n",
    "sia = SentimentIntensityAnalyzer()"
   ]
  },
  {
   "cell_type": "code",
   "execution_count": 14,
   "id": "e8530ba6",
   "metadata": {
    "execution": {
     "iopub.execute_input": "2024-01-11T22:19:30.640632Z",
     "iopub.status.busy": "2024-01-11T22:19:30.640176Z",
     "iopub.status.idle": "2024-01-11T22:19:30.648601Z",
     "shell.execute_reply": "2024-01-11T22:19:30.647319Z"
    },
    "papermill": {
     "duration": 0.023033,
     "end_time": "2024-01-11T22:19:30.650943",
     "exception": false,
     "start_time": "2024-01-11T22:19:30.627910",
     "status": "completed"
    },
    "tags": []
   },
   "outputs": [
    {
     "data": {
      "text/plain": [
       "{'neg': 0.0, 'neu': 0.334, 'pos': 0.666, 'compound': 0.6115}"
      ]
     },
     "execution_count": 14,
     "metadata": {},
     "output_type": "execute_result"
    }
   ],
   "source": [
    "sia.polarity_scores('I am so happy')"
   ]
  },
  {
   "cell_type": "markdown",
   "id": "b1e174ee",
   "metadata": {
    "papermill": {
     "duration": 0.010263,
     "end_time": "2024-01-11T22:19:30.671941",
     "exception": false,
     "start_time": "2024-01-11T22:19:30.661678",
     "status": "completed"
    },
    "tags": []
   },
   "source": [
    "neg --> negative score\n",
    "neu --> neutral score\n",
    "pos --> positive score\n",
    "compound --> score between -1 to 1"
   ]
  },
  {
   "cell_type": "code",
   "execution_count": 15,
   "id": "e84b15af",
   "metadata": {
    "execution": {
     "iopub.execute_input": "2024-01-11T22:19:30.695149Z",
     "iopub.status.busy": "2024-01-11T22:19:30.694741Z",
     "iopub.status.idle": "2024-01-11T22:19:30.702408Z",
     "shell.execute_reply": "2024-01-11T22:19:30.701248Z"
    },
    "papermill": {
     "duration": 0.022282,
     "end_time": "2024-01-11T22:19:30.704829",
     "exception": false,
     "start_time": "2024-01-11T22:19:30.682547",
     "status": "completed"
    },
    "tags": []
   },
   "outputs": [
    {
     "data": {
      "text/plain": [
       "{'neg': 0.451, 'neu': 0.549, 'pos': 0.0, 'compound': -0.6249}"
      ]
     },
     "execution_count": 15,
     "metadata": {},
     "output_type": "execute_result"
    }
   ],
   "source": [
    "sia.polarity_scores('This is the worst day ever.')"
   ]
  },
  {
   "cell_type": "code",
   "execution_count": 16,
   "id": "04dc06dd",
   "metadata": {
    "execution": {
     "iopub.execute_input": "2024-01-11T22:19:30.729767Z",
     "iopub.status.busy": "2024-01-11T22:19:30.728595Z",
     "iopub.status.idle": "2024-01-11T22:19:30.736798Z",
     "shell.execute_reply": "2024-01-11T22:19:30.735598Z"
    },
    "papermill": {
     "duration": 0.023566,
     "end_time": "2024-01-11T22:19:30.739292",
     "exception": false,
     "start_time": "2024-01-11T22:19:30.715726",
     "status": "completed"
    },
    "tags": []
   },
   "outputs": [
    {
     "data": {
      "text/plain": [
       "{'neg': 0.22, 'neu': 0.78, 'pos': 0.0, 'compound': -0.5448}"
      ]
     },
     "execution_count": 16,
     "metadata": {},
     "output_type": "execute_result"
    }
   ],
   "source": [
    "sia.polarity_scores(example)"
   ]
  },
  {
   "cell_type": "code",
   "execution_count": 17,
   "id": "a0ef5354",
   "metadata": {
    "execution": {
     "iopub.execute_input": "2024-01-11T22:19:30.762935Z",
     "iopub.status.busy": "2024-01-11T22:19:30.762514Z",
     "iopub.status.idle": "2024-01-11T22:19:31.444858Z",
     "shell.execute_reply": "2024-01-11T22:19:31.443959Z"
    },
    "papermill": {
     "duration": 0.697573,
     "end_time": "2024-01-11T22:19:31.447890",
     "exception": false,
     "start_time": "2024-01-11T22:19:30.750317",
     "status": "completed"
    },
    "tags": []
   },
   "outputs": [
    {
     "data": {
      "application/vnd.jupyter.widget-view+json": {
       "model_id": "b59aa0e052ad4398be0e9a9e4d90b986",
       "version_major": 2,
       "version_minor": 0
      },
      "text/plain": [
       "  0%|          | 0/500 [00:00<?, ?it/s]"
      ]
     },
     "metadata": {},
     "output_type": "display_data"
    }
   ],
   "source": [
    "#run the polarity score on the entire dataset\n",
    "res = {}\n",
    "for i, row in tqdm(df.iterrows(), total=len(df)):\n",
    "    text = row['Text']\n",
    "    myid = row['Id']\n",
    "    res[myid] = sia.polarity_scores(text)"
   ]
  },
  {
   "cell_type": "code",
   "execution_count": 18,
   "id": "5f50d11d",
   "metadata": {
    "execution": {
     "iopub.execute_input": "2024-01-11T22:19:31.472966Z",
     "iopub.status.busy": "2024-01-11T22:19:31.471803Z",
     "iopub.status.idle": "2024-01-11T22:19:31.507588Z",
     "shell.execute_reply": "2024-01-11T22:19:31.506259Z"
    },
    "papermill": {
     "duration": 0.051036,
     "end_time": "2024-01-11T22:19:31.510398",
     "exception": false,
     "start_time": "2024-01-11T22:19:31.459362",
     "status": "completed"
    },
    "tags": []
   },
   "outputs": [],
   "source": [
    "vaders = pd.DataFrame(res).T\n",
    "#reset and rename the index\n",
    "vaders = vaders.reset_index().rename(columns={'index': 'Id'})\n",
    "#left merging the vaders df and original df\n",
    "vaders = vaders.merge(df, how='left')"
   ]
  },
  {
   "cell_type": "code",
   "execution_count": 19,
   "id": "6af4832c",
   "metadata": {
    "execution": {
     "iopub.execute_input": "2024-01-11T22:19:31.535159Z",
     "iopub.status.busy": "2024-01-11T22:19:31.534271Z",
     "iopub.status.idle": "2024-01-11T22:19:31.556159Z",
     "shell.execute_reply": "2024-01-11T22:19:31.554835Z"
    },
    "papermill": {
     "duration": 0.037122,
     "end_time": "2024-01-11T22:19:31.558814",
     "exception": false,
     "start_time": "2024-01-11T22:19:31.521692",
     "status": "completed"
    },
    "tags": []
   },
   "outputs": [
    {
     "data": {
      "text/html": [
       "<div>\n",
       "<style scoped>\n",
       "    .dataframe tbody tr th:only-of-type {\n",
       "        vertical-align: middle;\n",
       "    }\n",
       "\n",
       "    .dataframe tbody tr th {\n",
       "        vertical-align: top;\n",
       "    }\n",
       "\n",
       "    .dataframe thead th {\n",
       "        text-align: right;\n",
       "    }\n",
       "</style>\n",
       "<table border=\"1\" class=\"dataframe\">\n",
       "  <thead>\n",
       "    <tr style=\"text-align: right;\">\n",
       "      <th></th>\n",
       "      <th>Id</th>\n",
       "      <th>neg</th>\n",
       "      <th>neu</th>\n",
       "      <th>pos</th>\n",
       "      <th>compound</th>\n",
       "      <th>ProductId</th>\n",
       "      <th>UserId</th>\n",
       "      <th>ProfileName</th>\n",
       "      <th>HelpfulnessNumerator</th>\n",
       "      <th>HelpfulnessDenominator</th>\n",
       "      <th>Score</th>\n",
       "      <th>Time</th>\n",
       "      <th>Summary</th>\n",
       "      <th>Text</th>\n",
       "    </tr>\n",
       "  </thead>\n",
       "  <tbody>\n",
       "    <tr>\n",
       "      <th>0</th>\n",
       "      <td>1</td>\n",
       "      <td>0.000</td>\n",
       "      <td>0.695</td>\n",
       "      <td>0.305</td>\n",
       "      <td>0.9441</td>\n",
       "      <td>B001E4KFG0</td>\n",
       "      <td>A3SGXH7AUHU8GW</td>\n",
       "      <td>delmartian</td>\n",
       "      <td>1</td>\n",
       "      <td>1</td>\n",
       "      <td>5</td>\n",
       "      <td>1303862400</td>\n",
       "      <td>Good Quality Dog Food</td>\n",
       "      <td>I have bought several of the Vitality canned d...</td>\n",
       "    </tr>\n",
       "    <tr>\n",
       "      <th>1</th>\n",
       "      <td>2</td>\n",
       "      <td>0.079</td>\n",
       "      <td>0.853</td>\n",
       "      <td>0.068</td>\n",
       "      <td>-0.1027</td>\n",
       "      <td>B00813GRG4</td>\n",
       "      <td>A1D87F6ZCVE5NK</td>\n",
       "      <td>dll pa</td>\n",
       "      <td>0</td>\n",
       "      <td>0</td>\n",
       "      <td>1</td>\n",
       "      <td>1346976000</td>\n",
       "      <td>Not as Advertised</td>\n",
       "      <td>Product arrived labeled as Jumbo Salted Peanut...</td>\n",
       "    </tr>\n",
       "    <tr>\n",
       "      <th>2</th>\n",
       "      <td>3</td>\n",
       "      <td>0.091</td>\n",
       "      <td>0.754</td>\n",
       "      <td>0.155</td>\n",
       "      <td>0.8265</td>\n",
       "      <td>B000LQOCH0</td>\n",
       "      <td>ABXLMWJIXXAIN</td>\n",
       "      <td>Natalia Corres \"Natalia Corres\"</td>\n",
       "      <td>1</td>\n",
       "      <td>1</td>\n",
       "      <td>4</td>\n",
       "      <td>1219017600</td>\n",
       "      <td>\"Delight\" says it all</td>\n",
       "      <td>This is a confection that has been around a fe...</td>\n",
       "    </tr>\n",
       "    <tr>\n",
       "      <th>3</th>\n",
       "      <td>4</td>\n",
       "      <td>0.000</td>\n",
       "      <td>1.000</td>\n",
       "      <td>0.000</td>\n",
       "      <td>0.0000</td>\n",
       "      <td>B000UA0QIQ</td>\n",
       "      <td>A395BORC6FGVXV</td>\n",
       "      <td>Karl</td>\n",
       "      <td>3</td>\n",
       "      <td>3</td>\n",
       "      <td>2</td>\n",
       "      <td>1307923200</td>\n",
       "      <td>Cough Medicine</td>\n",
       "      <td>If you are looking for the secret ingredient i...</td>\n",
       "    </tr>\n",
       "    <tr>\n",
       "      <th>4</th>\n",
       "      <td>5</td>\n",
       "      <td>0.000</td>\n",
       "      <td>0.552</td>\n",
       "      <td>0.448</td>\n",
       "      <td>0.9468</td>\n",
       "      <td>B006K2ZZ7K</td>\n",
       "      <td>A1UQRSCLF8GW1T</td>\n",
       "      <td>Michael D. Bigham \"M. Wassir\"</td>\n",
       "      <td>0</td>\n",
       "      <td>0</td>\n",
       "      <td>5</td>\n",
       "      <td>1350777600</td>\n",
       "      <td>Great taffy</td>\n",
       "      <td>Great taffy at a great price.  There was a wid...</td>\n",
       "    </tr>\n",
       "  </tbody>\n",
       "</table>\n",
       "</div>"
      ],
      "text/plain": [
       "   Id    neg    neu    pos  compound   ProductId          UserId  \\\n",
       "0   1  0.000  0.695  0.305    0.9441  B001E4KFG0  A3SGXH7AUHU8GW   \n",
       "1   2  0.079  0.853  0.068   -0.1027  B00813GRG4  A1D87F6ZCVE5NK   \n",
       "2   3  0.091  0.754  0.155    0.8265  B000LQOCH0   ABXLMWJIXXAIN   \n",
       "3   4  0.000  1.000  0.000    0.0000  B000UA0QIQ  A395BORC6FGVXV   \n",
       "4   5  0.000  0.552  0.448    0.9468  B006K2ZZ7K  A1UQRSCLF8GW1T   \n",
       "\n",
       "                       ProfileName  HelpfulnessNumerator  \\\n",
       "0                       delmartian                     1   \n",
       "1                           dll pa                     0   \n",
       "2  Natalia Corres \"Natalia Corres\"                     1   \n",
       "3                             Karl                     3   \n",
       "4    Michael D. Bigham \"M. Wassir\"                     0   \n",
       "\n",
       "   HelpfulnessDenominator  Score        Time                Summary  \\\n",
       "0                       1      5  1303862400  Good Quality Dog Food   \n",
       "1                       0      1  1346976000      Not as Advertised   \n",
       "2                       1      4  1219017600  \"Delight\" says it all   \n",
       "3                       3      2  1307923200         Cough Medicine   \n",
       "4                       0      5  1350777600            Great taffy   \n",
       "\n",
       "                                                Text  \n",
       "0  I have bought several of the Vitality canned d...  \n",
       "1  Product arrived labeled as Jumbo Salted Peanut...  \n",
       "2  This is a confection that has been around a fe...  \n",
       "3  If you are looking for the secret ingredient i...  \n",
       "4  Great taffy at a great price.  There was a wid...  "
      ]
     },
     "execution_count": 19,
     "metadata": {},
     "output_type": "execute_result"
    }
   ],
   "source": [
    "vaders.head()"
   ]
  },
  {
   "cell_type": "markdown",
   "id": "f58a4ce9",
   "metadata": {
    "papermill": {
     "duration": 0.011228,
     "end_time": "2024-01-11T22:19:31.581990",
     "exception": false,
     "start_time": "2024-01-11T22:19:31.570762",
     "status": "completed"
    },
    "tags": []
   },
   "source": [
    "# Plot VADER results"
   ]
  },
  {
   "cell_type": "code",
   "execution_count": 20,
   "id": "5849473d",
   "metadata": {
    "execution": {
     "iopub.execute_input": "2024-01-11T22:19:31.607599Z",
     "iopub.status.busy": "2024-01-11T22:19:31.607116Z",
     "iopub.status.idle": "2024-01-11T22:19:32.061128Z",
     "shell.execute_reply": "2024-01-11T22:19:32.059992Z"
    },
    "papermill": {
     "duration": 0.469723,
     "end_time": "2024-01-11T22:19:32.063451",
     "exception": false,
     "start_time": "2024-01-11T22:19:31.593728",
     "status": "completed"
    },
    "tags": []
   },
   "outputs": [
    {
     "data": {
      "image/png": "[encoded data removed]",
      "text/plain": [
       "<Figure size 640x480 with 1 Axes>"
      ]
     },
     "metadata": {},
     "output_type": "display_data"
    }
   ],
   "source": [
    "ax = sns.barplot(data=vaders, x='Score', y='compound')\n",
    "ax.set_title('Compound Score by Amazon Star Review')\n",
    "plt.show()"
   ]
  },
  {
   "cell_type": "code",
   "execution_count": 21,
   "id": "3819aa35",
   "metadata": {
    "execution": {
     "iopub.execute_input": "2024-01-11T22:19:32.090272Z",
     "iopub.status.busy": "2024-01-11T22:19:32.089051Z",
     "iopub.status.idle": "2024-01-11T22:19:33.463543Z",
     "shell.execute_reply": "2024-01-11T22:19:33.462245Z"
    },
    "papermill": {
     "duration": 1.390511,
     "end_time": "2024-01-11T22:19:33.466284",
     "exception": false,
     "start_time": "2024-01-11T22:19:32.075773",
     "status": "completed"
    },
    "tags": []
   },
   "outputs": [
    {
     "data": {
      "image/png": "[encoded data removed]",
      "text/plain": [
       "<Figure size 1000x300 with 3 Axes>"
      ]
     },
     "metadata": {},
     "output_type": "display_data"
    }
   ],
   "source": [
    "fig, axs = plt.subplots(1, 3, figsize=(10, 3))\n",
    "sns.barplot(data=vaders, x='Score', y='pos', ax=axs[0])\n",
    "sns.barplot(data=vaders, x='Score', y='neu', ax=axs[1])\n",
    "sns.barplot(data=vaders, x='Score', y='neg', ax=axs[2])\n",
    "axs[0].set_title('Positive')\n",
    "axs[1].set_title('Neutral')\n",
    "axs[2].set_title('Negative')\n",
    "plt.tight_layout()\n",
    "plt.show()"
   ]
  },
  {
   "cell_type": "code",
   "execution_count": null,
   "id": "9fcd29d3",
   "metadata": {
    "papermill": {
     "duration": 0.012177,
     "end_time": "2024-01-11T22:19:33.491181",
     "exception": false,
     "start_time": "2024-01-11T22:19:33.479004",
     "status": "completed"
    },
    "tags": []
   },
   "outputs": [],
   "source": []
  }
 ],
 "metadata": {
  "kaggle": {
   "accelerator": "none",
   "dataSources": [
    {
     "datasetId": 18,
     "sourceId": 2157,
     "sourceType": "datasetVersion"
    }
   ],
   "dockerImageVersionId": 30635,
   "isGpuEnabled": false,
   "isInternetEnabled": false,
   "language": "python",
   "sourceType": "notebook"
  },
  "kernelspec": {
   "display_name": "Python 3",
   "language": "python",
   "name": "python3"
  },
  "language_info": {
   "codemirror_mode": {
    "name": "ipython",
    "version": 3
   },
   "file_extension": ".py",
   "mimetype": "text/x-python",
   "name": "python",
   "nbconvert_exporter": "python",
   "pygments_lexer": "ipython3",
   "version": "3.10.12"
  },
  "papermill": {
   "default_parameters": {},
   "duration": 20.804101,
   "end_time": "2024-01-11T22:19:34.426574",
   "environment_variables": {},
   "exception": null,
   "input_path": "__notebook__.ipynb",
   "output_path": "__notebook__.ipynb",
   "parameters": {},
   "start_time": "2024-01-11T22:19:13.622473",
   "version": "2.4.0"
  },
  "widgets": {
   "application/vnd.jupyter.widget-state+json": {
    "state": {
     "0ec6b2413afc4136a73c34335e38abe5": {
      "model_module": "@jupyter-widgets/base",
      "model_module_version": "1.2.0",
      "model_name": "LayoutModel",
      "state": {
       "_model_module": "@jupyter-widgets/base",
       "_model_module_version": "1.2.0",
       "_model_name": "LayoutModel",
       "_view_count": null,
       "_view_module": "@jupyter-widgets/base",
       "_view_module_version": "1.2.0",
       "_view_name": "LayoutView",
       "align_content": null,
       "align_items": null,
       "align_self": null,
       "border": null,
       "bottom": null,
       "display": null,
       "flex": null,
       "flex_flow": null,
       "grid_area": null,
       "grid_auto_columns": null,
       "grid_auto_flow": null,
       "grid_auto_rows": null,
       "grid_column": null,
       "grid_gap": null,
       "grid_row": null,
       "grid_template_areas": null,
       "grid_template_columns": null,
       "grid_template_rows": null,
       "height": null,
       "justify_content": null,
       "justify_items": null,
       "left": null,
       "margin": null,
       "max_height": null,
       "max_width": null,
       "min_height": null,
       "min_width": null,
       "object_fit": null,
       "object_position": null,
       "order": null,
       "overflow": null,
       "overflow_x": null,
       "overflow_y": null,
       "padding": null,
       "right": null,
       "top": null,
       "visibility": null,
       "width": null
      }
     },
     "49f3e1ca73da4cf2acbb836f95254256": {
      "model_module": "@jupyter-widgets/controls",
      "model_module_version": "1.5.0",
      "model_name": "HTMLModel",
      "state": {
       "_dom_classes": [],
       "_model_module": "@jupyter-widgets/controls",
       "_model_module_version": "1.5.0",
       "_model_name": "HTMLModel",
       "_view_count": null,
       "_view_module": "@jupyter-widgets/controls",
       "_view_module_version": "1.5.0",
       "_view_name": "HTMLView",
       "description": "",
       "description_tooltip": null,
       "layout": "IPY_MODEL_8d10f7d027f0477590eddc9d958ed226",
       "placeholder": "​",
       "style": "IPY_MODEL_be7380d559d8482a94ae86949d3644b7",
       "value": " 500/500 [00:00&lt;00:00, 750.31it/s]"
      }
     },
     "4dc85433e71a41aeb46f4463973609bc": {
      "model_module": "@jupyter-widgets/controls",
      "model_module_version": "1.5.0",
      "model_name": "FloatProgressModel",
      "state": {
       "_dom_classes": [],
       "_model_module": "@jupyter-widgets/controls",
       "_model_module_version": "1.5.0",
       "_model_name": "FloatProgressModel",
       "_view_count": null,
       "_view_module": "@jupyter-widgets/controls",
       "_view_module_version": "1.5.0",
       "_view_name": "ProgressView",
       "bar_style": "success",
       "description": "",
       "description_tooltip": null,
       "layout": "IPY_MODEL_0ec6b2413afc4136a73c34335e38abe5",
       "max": 500.0,
       "min": 0.0,
       "orientation": "horizontal",
       "style": "IPY_MODEL_a26da0f9c4774e85a0de3aa64f41943f",
       "value": 500.0
      }
     },
     "598505c0d8414347921da5d46232ac38": {
      "model_module": "@jupyter-widgets/controls",
      "model_module_version": "1.5.0",
      "model_name": "HTMLModel",
      "state": {
       "_dom_classes": [],
       "_model_module": "@jupyter-widgets/controls",
       "_model_module_version": "1.5.0",
       "_model_name": "HTMLModel",
       "_view_count": null,
       "_view_module": "@jupyter-widgets/controls",
       "_view_module_version": "1.5.0",
       "_view_name": "HTMLView",
       "description": "",
       "description_tooltip": null,
       "layout": "IPY_MODEL_754066f303954934b47fa24319b34520",
       "placeholder": "​",
       "style": "IPY_MODEL_b7dd38cd706548ffb64fddfe9a973b2c",
       "value": "100%"
      }
     },
     "754066f303954934b47fa24319b34520": {
      "model_module": "@jupyter-widgets/base",
      "model_module_version": "1.2.0",
      "model_name": "LayoutModel",
      "state": {
       "_model_module": "@jupyter-widgets/base",
       "_model_module_version": "1.2.0",
       "_model_name": "LayoutModel",
       "_view_count": null,
       "_view_module": "@jupyter-widgets/base",
       "_view_module_version": "1.2.0",
       "_view_name": "LayoutView",
       "align_content": null,
       "align_items": null,
       "align_self": null,
       "border": null,
       "bottom": null,
       "display": null,
       "flex": null,
       "flex_flow": null,
       "grid_area": null,
       "grid_auto_columns": null,
       "grid_auto_flow": null,
       "grid_auto_rows": null,
       "grid_column": null,
       "grid_gap": null,
       "grid_row": null,
       "grid_template_areas": null,
       "grid_template_columns": null,
       "grid_template_rows": null,
       "height": null,
       "justify_content": null,
       "justify_items": null,
       "left": null,
       "margin": null,
       "max_height": null,
       "max_width": null,
       "min_height": null,
       "min_width": null,
       "object_fit": null,
       "object_position": null,
       "order": null,
       "overflow": null,
       "overflow_x": null,
       "overflow_y": null,
       "padding": null,
       "right": null,
       "top": null,
       "visibility": null,
       "width": null
      }
     },
     "8d10f7d027f0477590eddc9d958ed226": {
      "model_module": "@jupyter-widgets/base",
      "model_module_version": "1.2.0",
      "model_name": "LayoutModel",
      "state": {
       "_model_module": "@jupyter-widgets/base",
       "_model_module_version": "1.2.0",
       "_model_name": "LayoutModel",
       "_view_count": null,
       "_view_module": "@jupyter-widgets/base",
       "_view_module_version": "1.2.0",
       "_view_name": "LayoutView",
       "align_content": null,
       "align_items": null,
       "align_self": null,
       "border": null,
       "bottom": null,
       "display": null,
       "flex": null,
       "flex_flow": null,
       "grid_area": null,
       "grid_auto_columns": null,
       "grid_auto_flow": null,
       "grid_auto_rows": null,
       "grid_column": null,
       "grid_gap": null,
       "grid_row": null,
       "grid_template_areas": null,
       "grid_template_columns": null,
       "grid_template_rows": null,
       "height": null,
       "justify_content": null,
       "justify_items": null,
       "left": null,
       "margin": null,
       "max_height": null,
       "max_width": null,
       "min_height": null,
       "min_width": null,
       "object_fit": null,
       "object_position": null,
       "order": null,
       "overflow": null,
       "overflow_x": null,
       "overflow_y": null,
       "padding": null,
       "right": null,
       "top": null,
       "visibility": null,
       "width": null
      }
     },
     "932447762e104956ab390618a80f10f1": {
      "model_module": "@jupyter-widgets/base",
      "model_module_version": "1.2.0",
      "model_name": "LayoutModel",
      "state": {
       "_model_module": "@jupyter-widgets/base",
       "_model_module_version": "1.2.0",
       "_model_name": "LayoutModel",
       "_view_count": null,
       "_view_module": "@jupyter-widgets/base",
       "_view_module_version": "1.2.0",
       "_view_name": "LayoutView",
       "align_content": null,
       "align_items": null,
       "align_self": null,
       "border": null,
       "bottom": null,
       "display": null,
       "flex": null,
       "flex_flow": null,
       "grid_area": null,
       "grid_auto_columns": null,
       "grid_auto_flow": null,
       "grid_auto_rows": null,
       "grid_column": null,
       "grid_gap": null,
       "grid_row": null,
       "grid_template_areas": null,
       "grid_template_columns": null,
       "grid_template_rows": null,
       "height": null,
       "justify_content": null,
       "justify_items": null,
       "left": null,
       "margin": null,
       "max_height": null,
       "max_width": null,
       "min_height": null,
       "min_width": null,
       "object_fit": null,
       "object_position": null,
       "order": null,
       "overflow": null,
       "overflow_x": null,
       "overflow_y": null,
       "padding": null,
       "right": null,
       "top": null,
       "visibility": null,
       "width": null
      }
     },
     "a26da0f9c4774e85a0de3aa64f41943f": {
      "model_module": "@jupyter-widgets/controls",
      "model_module_version": "1.5.0",
      "model_name": "ProgressStyleModel",
      "state": {
       "_model_module": "@jupyter-widgets/controls",
       "_model_module_version": "1.5.0",
       "_model_name": "ProgressStyleModel",
       "_view_count": null,
       "_view_module": "@jupyter-widgets/base",
       "_view_module_version": "1.2.0",
       "_view_name": "StyleView",
       "bar_color": null,
       "description_width": ""
      }
     },
     "b59aa0e052ad4398be0e9a9e4d90b986": {
      "model_module": "@jupyter-widgets/controls",
      "model_module_version": "1.5.0",
      "model_name": "HBoxModel",
      "state": {
       "_dom_classes": [],
       "_model_module": "@jupyter-widgets/controls",
       "_model_module_version": "1.5.0",
       "_model_name": "HBoxModel",
       "_view_count": null,
       "_view_module": "@jupyter-widgets/controls",
       "_view_module_version": "1.5.0",
       "_view_name": "HBoxView",
       "box_style": "",
       "children": [
        "IPY_MODEL_598505c0d8414347921da5d46232ac38",
        "IPY_MODEL_4dc85433e71a41aeb46f4463973609bc",
        "IPY_MODEL_49f3e1ca73da4cf2acbb836f95254256"
       ],
       "layout": "IPY_MODEL_932447762e104956ab390618a80f10f1"
      }
     },
     "b7dd38cd706548ffb64fddfe9a973b2c": {
      "model_module": "@jupyter-widgets/controls",
      "model_module_version": "1.5.0",
      "model_name": "DescriptionStyleModel",
      "state": {
       "_model_module": "@jupyter-widgets/controls",
       "_model_module_version": "1.5.0",
       "_model_name": "DescriptionStyleModel",
       "_view_count": null,
       "_view_module": "@jupyter-widgets/base",
       "_view_module_version": "1.2.0",
       "_view_name": "StyleView",
       "description_width": ""
      }
     },
     "be7380d559d8482a94ae86949d3644b7": {
      "model_module": "@jupyter-widgets/controls",
      "model_module_version": "1.5.0",
      "model_name": "DescriptionStyleModel",
      "state": {
       "_model_module": "@jupyter-widgets/controls",
       "_model_module_version": "1.5.0",
       "_model_name": "DescriptionStyleModel",
       "_view_count": null,
       "_view_module": "@jupyter-widgets/base",
       "_view_module_version": "1.2.0",
       "_view_name": "StyleView",
       "description_width": ""
      }
     }
    },
    "version_major": 2,
    "version_minor": 0
   }
  }
 },
 "nbformat": 4,
 "nbformat_minor": 5
}
